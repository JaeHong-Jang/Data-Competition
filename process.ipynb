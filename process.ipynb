{
 "cells": [
  {
   "cell_type": "code",
   "execution_count": 80,
   "id": "ea43bc42",
   "metadata": {},
   "outputs": [],
   "source": [
    "import pandas as pd\n",
    "import numpy as np\n",
    "import matplotlib.pyplot as plt\n",
    "import seaborn as sns\n",
    "from sklearn.preprocessing import StandardScaler, MinMaxScaler\n",
    "from sklearn.feature_selection import SelectKBest, f_regression, mutual_info_regression\n",
    "from sklearn.ensemble import RandomForestRegressor\n",
    "from scipy import stats\n",
    "import warnings\n",
    "warnings.filterwarnings('ignore')\n",
    "\n",
    "# 한글 폰트 설정\n",
    "plt.rcParams['font.family'] = 'Malgun Gothic'\n",
    "plt.rcParams['axes.unicode_minus'] = False"
   ]
  },
  {
   "cell_type": "code",
   "execution_count": 81,
   "id": "5934c712",
   "metadata": {},
   "outputs": [],
   "source": [
    "# 데이터 로드 및 기본 정보\n",
    "# 원본 데이터 로드\n",
    "df_original = pd.read_csv('df_merged.csv')\n",
    "df = df_original.copy()  # 전처리용 복사본"
   ]
  },
  {
   "cell_type": "code",
   "execution_count": 82,
   "id": "b15d9fc2",
   "metadata": {},
   "outputs": [
    {
     "data": {
      "text/plain": [
       "(405, 26)"
      ]
     },
     "execution_count": 82,
     "metadata": {},
     "output_type": "execute_result"
    }
   ],
   "source": [
    "df.shape"
   ]
  },
  {
   "cell_type": "code",
   "execution_count": 83,
   "id": "9e982a45",
   "metadata": {},
   "outputs": [
    {
     "data": {
      "text/plain": [
       "month  CO2ppm       Temp       Humid      VPD       Chl_a  Chl_b  TChl   Car   Chl_a_b  TCh-Car  ABS-RC  Dio-RC  Tro-RC  Eto-RC  PI_abs  DF_abs  SFI_abs  Fv-Fm  Leaf_ExtractionYield  Root_ExtractionYield  Leaf_TPC  Root_TPC  Leaf_TFC  Root_TFC  scenario\n",
       "9      1225.166000  25.890000  55.446000  2.571000  2.63   0.39   3.02   1.17  6.73     2.57     2.903   0.794   2.110   0.562   0.333   -0.478  0.067    0.727  7.1                   14.6                  7.743     5.277     1.455     0.513     SSP5        1\n",
       "5      371.850683   16.930256  82.488003  1.534584  9.66   2.44   12.10  3.11  3.96     3.89     1.637   0.282   1.355   0.613   2.421    0.384  0.229    0.828  20.7                  20.4                  7.369     6.396     5.242     0.841     SSP1        1\n",
       "       373.935681   18.732141  81.813966  1.697796  10.53  2.58   13.11  3.37  4.08     3.90     1.629   0.273   1.355   0.539   2.012    0.304  0.203    0.832  20.7                  20.4                  7.369     6.396     5.242     0.841     SSP1        1\n",
       "       374.463441   16.922124  83.096722  1.532868  8.99   2.56   11.55  3.09  3.52     3.74     1.701   0.297   1.405   0.576   1.935    0.287  0.199    0.826  20.1                  19.6                  7.369     6.396     5.257     0.836     SSP1        1\n",
       "       377.579790   16.917478  83.688957  1.531479  9.33   2.45   11.79  3.13  3.80     3.77     1.341   0.217   1.124   0.507   3.187    0.503  0.282    0.839  20.1                  19.6                  7.369     6.396     5.257     0.836     SSP1        1\n",
       "                                                                                                                                                                                                                                                                ..\n",
       "       951.124520   18.723240  71.866196  1.715345  6.54   1.79   8.34   2.50  3.65     3.34     1.386   0.227   1.159   0.550   3.323    0.522  0.286    0.836  20.7                  20.4                  7.369     6.396     5.242     0.841     SSP3        1\n",
       "       952.483341   18.721419  71.913478  1.715085  6.40   1.87   8.27   2.73  3.43     3.02     1.448   0.234   1.214   0.609   3.615    0.558  0.291    0.839  20.7                  20.4                  7.369     6.396     5.242     0.841     SSP3        1\n",
       "       962.009776   18.725878  71.235171  1.716762  13.32  2.98   16.29  3.87  4.47     4.21     1.435   0.222   1.213   0.563   3.297    0.518  0.273    0.845  20.1                  19.6                  7.369     6.396     5.257     0.836     SSP3        1\n",
       "       963.702970   18.722895  69.403585  1.719863  6.40   1.87   8.27   2.73  3.43     3.02     1.448   0.234   1.214   0.609   3.615    0.558  0.291    0.839  19.0                  18.9                  7.476     6.270     5.217     0.861     SSP3        1\n",
       "       972.725789   18.721686  71.524390  1.715829  6.69   1.98   8.67   2.92  3.38     2.97     1.319   0.209   1.111   0.477   3.031    0.482  0.274    0.842  20.1                  19.6                  7.369     6.396     5.257     0.836     SSP3        1\n",
       "Name: count, Length: 405, dtype: int64"
      ]
     },
     "execution_count": 83,
     "metadata": {},
     "output_type": "execute_result"
    }
   ],
   "source": [
    "df.value_counts()"
   ]
  },
  {
   "cell_type": "markdown",
   "id": "2ad4ca07",
   "metadata": {},
   "source": [
    "### 타겟 변수와 예측 변수 분리\n",
    "- 자료조사: TPC(총 페놀), TFC(총 플라보노이드)가 예측 대상 기능성 성분\n",
    "- EDA 발견: TPC, TFC를 X변수로 사용하는 오류 지적\n",
    "- 추출수율: 품질 지표 아님 (음의 상관관계 확인)"
   ]
  },
  {
   "cell_type": "code",
   "execution_count": 84,
   "id": "a2c7f87a",
   "metadata": {},
   "outputs": [],
   "source": [
    "# 타겟 변수 정의\n",
    "target_columns = ['Leaf_TPC', 'Root_TPC', 'Leaf_TFC', 'Root_TFC']\n",
    "y = df[target_columns].copy()"
   ]
  },
  {
   "cell_type": "code",
   "execution_count": 85,
   "id": "6522899f",
   "metadata": {},
   "outputs": [],
   "source": [
    "# 예측 변수 정의 (타겟과 추출수율 제외)\n",
    "exclude_columns = target_columns + ['Leaf_ExtractionYield', 'Root_ExtractionYield']\n",
    "X = df.drop(columns=exclude_columns)"
   ]
  },
  {
   "cell_type": "markdown",
   "id": "ac54ce66",
   "metadata": {},
   "source": [
    "### 범주형 변수 처리\n",
    "- 자료조사: SSP1(432ppm), SSP3(834ppm), SSP5(1089ppm) 시나리오별 특성 다름\n",
    "- EDA 발견: SSP3가 일부 지표에서 SSP5보다 나쁨 (복합 스트레스)\n",
    "- 시나리오는 순서형이 아닌 명목형으로 처리 필요"
   ]
  },
  {
   "cell_type": "code",
   "execution_count": 86,
   "id": "fc5a24cf",
   "metadata": {},
   "outputs": [],
   "source": [
    "# 시나리오 변수 저장 (나중에 시나리오별 분석용)\n",
    "scenario_column = X['scenario'].copy()"
   ]
  },
  {
   "cell_type": "code",
   "execution_count": 87,
   "id": "9a80c522",
   "metadata": {},
   "outputs": [],
   "source": [
    "# scenario 원핫인코딩\n",
    "X_encoded = pd.get_dummies(X, columns=['scenario'], prefix='scenario')"
   ]
  },
  {
   "cell_type": "code",
   "execution_count": 88,
   "id": "6978e346",
   "metadata": {},
   "outputs": [
    {
     "data": {
      "text/plain": [
       "(405, 22)"
      ]
     },
     "execution_count": 88,
     "metadata": {},
     "output_type": "execute_result"
    }
   ],
   "source": [
    "X_encoded.shape"
   ]
  },
  {
   "cell_type": "markdown",
   "id": "e123187f",
   "metadata": {},
   "source": [
    "### 생물학적 타당성 검증 및 이상치 처리\n",
    "- 자료조사: Fv/Fm 0.6 이하는 극한 스트레스 (문헌 근거)\n",
    "- EDA 발견: 9월 급변은 생리적 전환 (이상치 아님)\n",
    "- 에너지 보존: ABS = Tro + Dio (물리 법칙)"
   ]
  },
  {
   "cell_type": "code",
   "execution_count": 89,
   "id": "9b50fc99",
   "metadata": {},
   "outputs": [
    {
     "name": "stdout",
     "output_type": "stream",
     "text": [
      "Fv/Fm < 0.6 (극한 스트레스): 5개\n"
     ]
    }
   ],
   "source": [
    "# 3-1. Fv/Fm 범위 검증 및 처리\n",
    "fv_fm_extreme = (X_encoded['Fv-Fm'] < 0.6).sum()\n",
    "print(f\"Fv/Fm < 0.6 (극한 스트레스): {fv_fm_extreme}개\")"
   ]
  },
  {
   "cell_type": "code",
   "execution_count": 90,
   "id": "967abe2d",
   "metadata": {},
   "outputs": [
    {
     "name": "stdout",
     "output_type": "stream",
     "text": [
      "→ 처리: 제거하지 않고 플래그 변수 추가 (극한 상황 정보 보존)\n"
     ]
    }
   ],
   "source": [
    "# 극한 스트레스 플래그 추가 (제거하지 않음)\n",
    "X_encoded['extreme_stress_fv'] = (X_encoded['Fv-Fm'] < 0.6).astype(int)\n",
    "print(\"→ 처리: 제거하지 않고 플래그 변수 추가 (극한 상황 정보 보존)\")"
   ]
  },
  {
   "cell_type": "code",
   "execution_count": 91,
   "id": "af68a09e",
   "metadata": {},
   "outputs": [
    {
     "name": "stdout",
     "output_type": "stream",
     "text": [
      "Fv/Fm 범위 밖 (0-1): 0개\n"
     ]
    }
   ],
   "source": [
    "# 3-2. 물리적 불가능 값 제거\n",
    "physically_impossible = ((X_encoded['Fv-Fm'] < 0) | (X_encoded['Fv-Fm'] > 1)).sum()\n",
    "print(f\"Fv/Fm 범위 밖 (0-1): {physically_impossible}개\")"
   ]
  },
  {
   "cell_type": "code",
   "execution_count": 92,
   "id": "655142f7",
   "metadata": {},
   "outputs": [
    {
     "name": "stdout",
     "output_type": "stream",
     "text": [
      "→ 처리: 물리적 불가능 값 없음\n"
     ]
    }
   ],
   "source": [
    "if physically_impossible > 0:\n",
    "    before_shape = X_encoded.shape[0]\n",
    "    valid_idx = (X_encoded['Fv-Fm'] >= 0) & (X_encoded['Fv-Fm'] <= 1)\n",
    "    X_encoded = X_encoded[valid_idx]\n",
    "    y = y[valid_idx]\n",
    "    print(f\"→ 처리: 물리적 불가능 값 제거 ({before_shape} → {X_encoded.shape[0]})\")\n",
    "else:\n",
    "    print(\"→ 처리: 물리적 불가능 값 없음\")"
   ]
  },
  {
   "cell_type": "code",
   "execution_count": 93,
   "id": "3224b71b",
   "metadata": {},
   "outputs": [
    {
     "name": "stdout",
     "output_type": "stream",
     "text": [
      "에너지 보존 위반 (오차 > 1.0): 0개\n"
     ]
    }
   ],
   "source": [
    "# 3-3. 에너지 보존 법칙 검증\n",
    "X_encoded['energy_check'] = abs(X_encoded['ABS-RC'] - (X_encoded['Tro-RC'] + X_encoded['Dio-RC']))\n",
    "energy_violation = (X_encoded['energy_check'] > 1.0).sum()\n",
    "print(f\"에너지 보존 위반 (오차 > 1.0): {energy_violation}개\")"
   ]
  },
  {
   "cell_type": "code",
   "execution_count": 94,
   "id": "74afaf1c",
   "metadata": {},
   "outputs": [],
   "source": [
    "# 에너지 보존 위반 플래그\n",
    "X_encoded['energy_violation'] = (X_encoded['energy_check'] > 1.0).astype(int)"
   ]
  },
  {
   "cell_type": "markdown",
   "id": "fee2a340",
   "metadata": {},
   "source": [
    "### Feature Engineering - 생물학적 의미 기반\n",
    "- 자료조사: 5-7월 영양생장, 8-9월 생식생장 (생장 단계별 특성)\n",
    "- VPD 2.5 kPa 이상 시 미세털 보호 메커니즘 작동\n",
    "- SSP3 6월 급감 현상 (CO2+온도 복합 스트레스)"
   ]
  },
  {
   "cell_type": "code",
   "execution_count": 95,
   "id": "c39a8364",
   "metadata": {},
   "outputs": [],
   "source": [
    "# 4-1. 생장 단계 변수\n",
    "growth_stage_map = {\n",
    "    5: 'vegetative_early',\n",
    "    6: 'vegetative_mid',\n",
    "    7: 'vegetative_late',\n",
    "    8: 'reproductive',\n",
    "    9: 'senescence'\n",
    "}\n",
    "X_encoded['growth_stage'] = X_encoded['month'].map(growth_stage_map)\n",
    "X_encoded = pd.get_dummies(X_encoded, columns=['growth_stage'], prefix='stage')"
   ]
  },
  {
   "cell_type": "code",
   "execution_count": 96,
   "id": "297056f0",
   "metadata": {},
   "outputs": [
    {
     "name": "stdout",
     "output_type": "stream",
     "text": [
      "VPD > 2.5 kPa: 155개 (38.3%)\n"
     ]
    }
   ],
   "source": [
    "# 4-2. 스트레스 지표\n",
    "X_encoded['vpd_stress'] = (X_encoded['VPD'] > 2.5).astype(int)\n",
    "print(f\"VPD > 2.5 kPa: {X_encoded['vpd_stress'].sum()}개 ({X_encoded['vpd_stress'].mean()*100:.1f}%)\")"
   ]
  },
  {
   "cell_type": "code",
   "execution_count": 97,
   "id": "25743d02",
   "metadata": {},
   "outputs": [],
   "source": [
    "# 온도 스트레스 (15-25°C 적정)\n",
    "X_encoded['temp_optimal'] = ((X_encoded['Temp'] >= 15) & (X_encoded['Temp'] <= 25)).astype(int)\n",
    "X_encoded['heat_stress'] = (X_encoded['Temp'] > 25).astype(int)\n",
    "X_encoded['cold_stress'] = (X_encoded['Temp'] < 15).astype(int)"
   ]
  },
  {
   "cell_type": "code",
   "execution_count": 98,
   "id": "639283f3",
   "metadata": {},
   "outputs": [
    {
     "name": "stdout",
     "output_type": "stream",
     "text": [
      "CO2 > 800ppm (독성): 268개\n"
     ]
    }
   ],
   "source": [
    "# CO2 독성 (800ppm 이상)\n",
    "X_encoded['co2_toxic'] = (X_encoded['CO2ppm'] > 800).astype(int)\n",
    "print(f\"CO2 > 800ppm (독성): {X_encoded['co2_toxic'].sum()}개\")"
   ]
  },
  {
   "cell_type": "code",
   "execution_count": 99,
   "id": "43c7e424",
   "metadata": {},
   "outputs": [],
   "source": [
    "# 4-3. 복합 스트레스 지수\n",
    "# 온도-CO2 복합 스트레스\n",
    "X_encoded['stress_index'] = (X_encoded['Temp'] - 20) * (X_encoded['CO2ppm'] - 432) / 432"
   ]
  },
  {
   "cell_type": "code",
   "execution_count": 100,
   "id": "9a5bbf1c",
   "metadata": {},
   "outputs": [
    {
     "name": "stdout",
     "output_type": "stream",
     "text": [
      "SSP3 6월 이상: 30개\n"
     ]
    }
   ],
   "source": [
    "# SSP3 6월 이상 플래그\n",
    "X_encoded['ssp3_june_anomaly'] = ((X_encoded['scenario_SSP3'] == 1) & (X_encoded['month'] == 6)).astype(int)\n",
    "print(f\"SSP3 6월 이상: {X_encoded['ssp3_june_anomaly'].sum()}개\")"
   ]
  },
  {
   "cell_type": "code",
   "execution_count": 101,
   "id": "df8972fb",
   "metadata": {},
   "outputs": [],
   "source": [
    "# 4-4. 광합성 효율 지표\n",
    "# 에너지 효율 (전자전달/포획)\n",
    "X_encoded['energy_efficiency'] = np.where(X_encoded['Tro-RC'] > 0, \n",
    "                                         X_encoded['Eto-RC'] / X_encoded['Tro-RC'], \n",
    "                                         0)"
   ]
  },
  {
   "cell_type": "code",
   "execution_count": 102,
   "id": "92cf1e66",
   "metadata": {},
   "outputs": [],
   "source": [
    "# 열소산 비율 (보호 메커니즘)\n",
    "X_encoded['dissipation_ratio'] = np.where(X_encoded['ABS-RC'] > 0,\n",
    "                                         X_encoded['Dio-RC'] / X_encoded['ABS-RC'],\n",
    "                                         0)"
   ]
  },
  {
   "cell_type": "code",
   "execution_count": 103,
   "id": "d9a916a3",
   "metadata": {},
   "outputs": [
    {
     "name": "stdout",
     "output_type": "stream",
     "text": [
      "9월 데이터: 84개 (자료조사: 자원 재분배 시기)\n"
     ]
    }
   ],
   "source": [
    "# 4-5. 9월 생리적 전환 플래그 (이상치 x)\n",
    "X_encoded['september_transition'] = (X_encoded['month'] == 9).astype(int)\n",
    "print(f\"9월 데이터: {X_encoded['september_transition'].sum()}개 (자료조사: 자원 재분배 시기)\")"
   ]
  },
  {
   "cell_type": "markdown",
   "id": "eb83f01f",
   "metadata": {},
   "source": [
    "### 변수 선택 - 다중공선성 처리\n",
    "- EDA 발견: TChl = Chl_a + Chl_b (강한 상관)\n",
    "- VPD는 온도의 함수 (Clausius-Clapeyron 방정식)\n",
    "- 각 변수의 생물학적 의미는 다르므로 신중히 선택"
   ]
  },
  {
   "cell_type": "code",
   "execution_count": 104,
   "id": "befd2660",
   "metadata": {},
   "outputs": [],
   "source": [
    "# 상관관계 확인\n",
    "numeric_cols = X_encoded.select_dtypes(include=[np.number]).columns\n",
    "corr_matrix = X_encoded[numeric_cols].corr()"
   ]
  },
  {
   "cell_type": "code",
   "execution_count": 105,
   "id": "ca307132",
   "metadata": {},
   "outputs": [],
   "source": [
    "# 높은 상관관계 (> 0.95) 찾기\n",
    "high_corr_pairs = []\n",
    "for i in range(len(corr_matrix.columns)):\n",
    "    for j in range(i+1, len(corr_matrix.columns)):\n",
    "        if abs(corr_matrix.iloc[i, j]) > 0.95:\n",
    "            high_corr_pairs.append((corr_matrix.columns[i], \n",
    "                                  corr_matrix.columns[j], \n",
    "                                  corr_matrix.iloc[i, j]))"
   ]
  },
  {
   "cell_type": "code",
   "execution_count": 106,
   "id": "0305f5b4",
   "metadata": {},
   "outputs": [
    {
     "name": "stdout",
     "output_type": "stream",
     "text": [
      "상관계수 > 0.95인 변수 쌍: 9개\n",
      "  Temp - VPD: 0.997\n",
      "  Chl_a - TChl: 0.987\n",
      "  ABS-RC - Tro-RC: 0.966\n",
      "  Dio-RC - DF_abs: -0.965\n",
      "  Dio-RC - Fv-Fm: -0.962\n"
     ]
    }
   ],
   "source": [
    "print(f\"상관계수 > 0.95인 변수 쌍: {len(high_corr_pairs)}개\")\n",
    "for var1, var2, corr in high_corr_pairs[:5]:  # 상위 5개만 표시\n",
    "    print(f\"  {var1} - {var2}: {corr:.3f}\")"
   ]
  },
  {
   "cell_type": "code",
   "execution_count": 107,
   "id": "3048afac",
   "metadata": {},
   "outputs": [
    {
     "name": "stdout",
     "output_type": "stream",
     "text": [
      "\n",
      "→ 처리: TChl 제거 (Chl_a + Chl_b와 중복)\n"
     ]
    }
   ],
   "source": [
    "# TChl 제거 (Chl_a + Chl_b와 중복)\n",
    "# EDA 발견: TChl = Chl_a + Chl_b (강한 상관)\n",
    "if 'TChl' in X_encoded.columns and 'Chl_a' in X_encoded.columns and 'Chl_b' in X_encoded.columns:\n",
    "    X_encoded = X_encoded.drop(columns=['TChl'])\n",
    "    print(\"\\n→ 처리: TChl 제거 (Chl_a + Chl_b와 중복)\")"
   ]
  },
  {
   "cell_type": "code",
   "execution_count": 108,
   "id": "249176e7",
   "metadata": {},
   "outputs": [],
   "source": [
    "# energy_check 컬럼 제거 (임시 변수)\n",
    "if 'energy_check' in X_encoded.columns:\n",
    "    X_encoded = X_encoded.drop(columns=['energy_check'])"
   ]
  },
  {
   "cell_type": "markdown",
   "id": "12c92ec9",
   "metadata": {},
   "source": [
    "### 시나리오별 상관관계 분석"
   ]
  },
  {
   "cell_type": "code",
   "execution_count": 109,
   "id": "ee373f49",
   "metadata": {},
   "outputs": [],
   "source": [
    "# 시나리오별 분석을 위해 원래 시나리오 정보 복원\n",
    "X_with_scenario = X_encoded.copy()\n",
    "X_with_scenario['scenario'] = scenario_column.values[:len(X_encoded)]"
   ]
  },
  {
   "cell_type": "code",
   "execution_count": 110,
   "id": "c655aa62",
   "metadata": {},
   "outputs": [],
   "source": [
    "scenarios = ['SSP1', 'SSP3', 'SSP5']\n",
    "scenario_correlations = {}"
   ]
  },
  {
   "cell_type": "code",
   "execution_count": 115,
   "id": "9a128877",
   "metadata": {},
   "outputs": [
    {
     "name": "stdout",
     "output_type": "stream",
     "text": [
      "\n",
      "SSP1 (n=135):\n",
      "  Leaf_TPC 상위 상관변수:\n",
      "    PI_abs: 0.887\n",
      "    SFI_abs: 0.886\n",
      "    DF_abs: 0.867\n",
      "    ABS-RC: -0.850\n",
      "    Tro-RC: -0.847\n",
      "  Root_TPC 상위 상관변수:\n",
      "    Temp: -0.852\n",
      "    VPD: -0.831\n",
      "    Humid: 0.705\n",
      "    month: -0.645\n",
      "    Car: 0.573\n",
      "\n",
      "SSP3 (n=135):\n",
      "  Leaf_TPC 상위 상관변수:\n",
      "    Eto-RC: 0.758\n",
      "    september_transition: -0.725\n",
      "    vpd_stress: 0.644\n",
      "    energy_efficiency: 0.619\n",
      "    Fv-Fm: 0.589\n",
      "  Root_TPC 상위 상관변수:\n",
      "    month: -0.850\n",
      "    Car: 0.838\n",
      "    PI_abs: 0.811\n",
      "    SFI_abs: 0.809\n",
      "    ABS-RC: -0.768\n",
      "\n",
      "SSP5 (n=135):\n",
      "  Leaf_TPC 상위 상관변수:\n",
      "    Chl_a: -0.595\n",
      "    Temp: 0.562\n",
      "    stress_index: 0.546\n",
      "    VPD: 0.539\n",
      "    Car: -0.520\n",
      "  Root_TPC 상위 상관변수:\n",
      "    Temp: -0.950\n",
      "    VPD: -0.945\n",
      "    stress_index: -0.938\n",
      "    Eto-RC: -0.722\n",
      "    vpd_stress: -0.689\n"
     ]
    }
   ],
   "source": [
    "for scenario in scenarios:\n",
    "    scenario_mask = X_with_scenario['scenario'] == scenario\n",
    "    scenario_data = X_with_scenario[scenario_mask]\n",
    "    \n",
    "    print(f\"\\n{scenario} (n={scenario_mask.sum()}):\")\n",
    "    \n",
    "    # 각 타겟에 대한 상관관계\n",
    "    for target in target_columns[:2]:  # 대표로 2개만 표시\n",
    "        target_data = y[scenario_mask][target]\n",
    "        \n",
    "        # 상위 5개 변수\n",
    "        correlations = []\n",
    "        for col in numeric_cols:\n",
    "            if col in scenario_data.columns and col != 'scenario':\n",
    "                corr = scenario_data[col].corr(target_data)\n",
    "                if not pd.isna(corr):\n",
    "                    correlations.append((col, corr))\n",
    "        \n",
    "        correlations.sort(key=lambda x: abs(x[1]), reverse=True)\n",
    "        \n",
    "        print(f\"  {target} 상위 상관변수:\")\n",
    "        for col, corr in correlations[:5]:\n",
    "            print(f\"    {col}: {corr:.3f}\")\n",
    "    \n",
    "    scenario_correlations[scenario] = correlations"
   ]
  },
  {
   "cell_type": "code",
   "execution_count": 116,
   "id": "2d714887",
   "metadata": {},
   "outputs": [],
   "source": [
    "# scenario 컬럼 다시 제거\n",
    "X_encoded = X_with_scenario.drop(columns=['scenario'])"
   ]
  },
  {
   "cell_type": "markdown",
   "id": "4aa09f8e",
   "metadata": {},
   "source": [
    "### 스케일링 전략\n",
    "- Tree 기반 모델: 스케일링 불필요\n",
    "- Linear 모델: StandardScaler (정규분포 가정)\n",
    "- Neural Network: MinMaxScaler (0-1 범위)\n",
    "- 현재는 표준화만 수행 (모델 선택 후 조정 가능)"
   ]
  },
  {
   "cell_type": "code",
   "execution_count": 118,
   "id": "216d3afb",
   "metadata": {},
   "outputs": [
    {
     "name": "stdout",
     "output_type": "stream",
     "text": [
      "수치형 변수: 30개\n",
      "범주형 변수: 8개\n"
     ]
    }
   ],
   "source": [
    "# 수치형 변수만 스케일링\n",
    "numeric_features = X_encoded.select_dtypes(include=[np.number]).columns\n",
    "categorical_features = X_encoded.select_dtypes(exclude=[np.number]).columns\n",
    "\n",
    "print(f\"수치형 변수: {len(numeric_features)}개\")\n",
    "print(f\"범주형 변수: {len(categorical_features)}개\")"
   ]
  },
  {
   "cell_type": "code",
   "execution_count": 119,
   "id": "56406936",
   "metadata": {},
   "outputs": [],
   "source": [
    "# StandardScaler 적용\n",
    "scaler = StandardScaler()\n",
    "X_scaled = X_encoded.copy()\n",
    "X_scaled[numeric_features] = scaler.fit_transform(X_encoded[numeric_features].fillna(0))"
   ]
  },
  {
   "cell_type": "markdown",
   "id": "065f1ccd",
   "metadata": {},
   "source": [
    "### 전처리 결과 검증"
   ]
  },
  {
   "cell_type": "code",
   "execution_count": 121,
   "id": "96357896",
   "metadata": {},
   "outputs": [
    {
     "name": "stdout",
     "output_type": "stream",
     "text": [
      "원본 데이터: (405, 26)\n",
      "최종 X shape: (405, 38)\n",
      "최종 y shape: (405, 4)\n"
     ]
    }
   ],
   "source": [
    "# 전후 비교\n",
    "print(f\"원본 데이터: {df_original.shape}\")\n",
    "print(f\"최종 X shape: {X_scaled.shape}\")\n",
    "print(f\"최종 y shape: {y.shape}\")"
   ]
  },
  {
   "cell_type": "code",
   "execution_count": 122,
   "id": "05406c90",
   "metadata": {},
   "outputs": [
    {
     "name": "stdout",
     "output_type": "stream",
     "text": [
      "\n",
      "새로 생성된 변수: 20개\n",
      "주요 생성 변수:\n",
      "  - extreme_stress_fv\n",
      "  - vpd_stress\n",
      "  - heat_stress\n",
      "  - stress_index\n",
      "  - energy_efficiency\n",
      "  - dissipation_ratio\n"
     ]
    }
   ],
   "source": [
    "# 새로 생성된 변수\n",
    "new_features = [col for col in X_scaled.columns if col not in df_original.columns]\n",
    "print(f\"\\n새로 생성된 변수: {len(new_features)}개\")\n",
    "print(\"주요 생성 변수:\")\n",
    "for feat in ['extreme_stress_fv', 'vpd_stress', 'heat_stress', \n",
    "             'stress_index', 'energy_efficiency', 'dissipation_ratio']:\n",
    "    if feat in X_scaled.columns:\n",
    "        print(f\"  - {feat}\")"
   ]
  },
  {
   "cell_type": "code",
   "execution_count": 123,
   "id": "b3bd69bf",
   "metadata": {},
   "outputs": [
    {
     "name": "stdout",
     "output_type": "stream",
     "text": [
      "\n",
      "제거된 변수: ['TChl', 'scenario']\n"
     ]
    }
   ],
   "source": [
    "# 제거된 변수\n",
    "removed_features = [col for col in df_original.columns \n",
    "                   if col not in X_scaled.columns and col not in target_columns + ['Leaf_ExtractionYield', 'Root_ExtractionYield']]\n",
    "print(f\"\\n제거된 변수: {removed_features}\")"
   ]
  },
  {
   "cell_type": "markdown",
   "id": "477fdb1f",
   "metadata": {},
   "source": [
    "### 데이터 저장"
   ]
  },
  {
   "cell_type": "code",
   "execution_count": 124,
   "id": "30ff8b07",
   "metadata": {},
   "outputs": [],
   "source": [
    "# 전처리된 데이터 저장\n",
    "X_scaled.to_csv('X_preprocessed.csv', index=False)\n",
    "y.to_csv('y_targets.csv', index=False)"
   ]
  },
  {
   "cell_type": "code",
   "execution_count": 125,
   "id": "c4aa5c8e",
   "metadata": {},
   "outputs": [
    {
     "name": "stdout",
     "output_type": "stream",
     "text": [
      "\n",
      "저장된 파일:\n",
      "  - X_preprocessed.csv: 전처리된 예측 변수\n",
      "  - y_targets.csv: 타겟 변수\n",
      "  - scenario_info.csv: 시나리오 정보 (평가용)\n"
     ]
    }
   ],
   "source": [
    "# 시나리오 정보 저장 (모델 평가용)\n",
    "scenario_info = pd.DataFrame({\n",
    "    'scenario': scenario_column.values[:len(X_scaled)]\n",
    "})\n",
    "scenario_info.to_csv('scenario_info.csv', index=False)\n",
    "\n",
    "print(\"\\n저장된 파일:\")\n",
    "print(\"  - X_preprocessed.csv: 전처리된 예측 변수\")\n",
    "print(\"  - y_targets.csv: 타겟 변수\")\n",
    "print(\"  - scenario_info.csv: 시나리오 정보 (평가용)\")"
   ]
  }
 ],
 "metadata": {
  "kernelspec": {
   "display_name": "py2",
   "language": "python",
   "name": "python3"
  },
  "language_info": {
   "codemirror_mode": {
    "name": "ipython",
    "version": 3
   },
   "file_extension": ".py",
   "mimetype": "text/x-python",
   "name": "python",
   "nbconvert_exporter": "python",
   "pygments_lexer": "ipython3",
   "version": "3.10.16"
  }
 },
 "nbformat": 4,
 "nbformat_minor": 5
}
